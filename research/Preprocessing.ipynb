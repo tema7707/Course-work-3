{
 "cells": [
  {
   "cell_type": "code",
   "execution_count": 1,
   "metadata": {},
   "outputs": [],
   "source": [
    "import sys\n",
    "sys.path.append('..')\n",
    "\n",
    "from CONSTS import IMAGEPATH, MASKPATH, FASHION_WEAR_GIT_CODE\n",
    "from utils.utils import read_image, read_mask, cut_mask\n",
    "from scipy.io import loadmat\n",
    "\n",
    "import matplotlib.pyplot as plt\n",
    "import pandas as pd\n",
    "import numpy as np\n",
    "from tqdm import tqdm\n",
    "import torch\n",
    "import os"
   ]
  },
  {
   "cell_type": "code",
   "execution_count": 2,
   "metadata": {},
   "outputs": [
    {
     "name": "stdout",
     "output_type": "stream",
     "text": [
      "(0, 'null')\n",
      "(1, 'accessories')\n",
      "(2, 'bag')\n",
      "(3, 'belt')\n",
      "(4, 'blazer')\n",
      "(5, 'blouse')\n",
      "(6, 'bodysuit')\n",
      "(7, 'boots')\n",
      "(8, 'bra')\n",
      "(9, 'bracelet')\n",
      "(10, 'cape')\n",
      "(11, 'cardigan')\n",
      "(12, 'clogs')\n",
      "(13, 'coat')\n",
      "(14, 'dress')\n",
      "(15, 'earrings')\n",
      "(16, 'flats')\n",
      "(17, 'glasses')\n",
      "(18, 'gloves')\n",
      "(19, 'hair')\n",
      "(20, 'hat')\n",
      "(21, 'heels')\n",
      "(22, 'hoodie')\n",
      "(23, 'intimate')\n",
      "(24, 'jacket')\n",
      "(25, 'jeans')\n",
      "(26, 'jumper')\n",
      "(27, 'leggings')\n",
      "(28, 'loafers')\n",
      "(29, 'necklace')\n",
      "(30, 'panties')\n",
      "(31, 'pants')\n",
      "(32, 'pumps')\n",
      "(33, 'purse')\n",
      "(34, 'ring')\n",
      "(35, 'romper')\n",
      "(36, 'sandals')\n",
      "(37, 'scarf')\n",
      "(38, 'shirt')\n",
      "(39, 'shoes')\n",
      "(40, 'shorts')\n",
      "(41, 'skin')\n",
      "(42, 'skirt')\n",
      "(43, 'sneakers')\n",
      "(44, 'socks')\n",
      "(45, 'stockings')\n",
      "(46, 'suit')\n",
      "(47, 'sunglasses')\n",
      "(48, 'sweater')\n",
      "(49, 'sweatshirt')\n",
      "(50, 'swimwear')\n",
      "(51, 't-shirt')\n",
      "(52, 'tie')\n",
      "(53, 'tights')\n",
      "(54, 'top')\n",
      "(55, 'vest')\n",
      "(56, 'wallet')\n",
      "(57, 'watch')\n",
      "(58, 'wedges')\n"
     ]
    },
    {
     "data": {
      "text/plain": [
       "[None,\n",
       " None,\n",
       " None,\n",
       " None,\n",
       " None,\n",
       " None,\n",
       " None,\n",
       " None,\n",
       " None,\n",
       " None,\n",
       " None,\n",
       " None,\n",
       " None,\n",
       " None,\n",
       " None,\n",
       " None,\n",
       " None,\n",
       " None,\n",
       " None,\n",
       " None,\n",
       " None,\n",
       " None,\n",
       " None,\n",
       " None,\n",
       " None,\n",
       " None,\n",
       " None,\n",
       " None,\n",
       " None,\n",
       " None,\n",
       " None,\n",
       " None,\n",
       " None,\n",
       " None,\n",
       " None,\n",
       " None,\n",
       " None,\n",
       " None,\n",
       " None,\n",
       " None,\n",
       " None,\n",
       " None,\n",
       " None,\n",
       " None,\n",
       " None,\n",
       " None,\n",
       " None,\n",
       " None,\n",
       " None,\n",
       " None,\n",
       " None,\n",
       " None,\n",
       " None,\n",
       " None,\n",
       " None,\n",
       " None,\n",
       " None,\n",
       " None,\n",
       " None]"
      ]
     },
     "execution_count": 2,
     "metadata": {},
     "output_type": "execute_result"
    }
   ],
   "source": [
    "list(map(lambda x: print(x), [(i, loadmat('datasets/label_list.mat')['label_list'][0][i][0]) for i in range(59)]))"
   ]
  },
  {
   "cell_type": "code",
   "execution_count": 3,
   "metadata": {},
   "outputs": [
    {
     "data": {
      "text/plain": [
       "{'__header__': b'MATLAB 5.0 MAT-file, Platform: GLNXA64, Created on: Wed Aug 13 20:13:52 2014',\n",
       " '__version__': '1.0',\n",
       " '__globals__': [],\n",
       " 'label_list': array([[array(['null'], dtype='<U4'),\n",
       "         array(['accessories'], dtype='<U11'),\n",
       "         array(['bag'], dtype='<U3'), array(['belt'], dtype='<U4'),\n",
       "         array(['blazer'], dtype='<U6'), array(['blouse'], dtype='<U6'),\n",
       "         array(['bodysuit'], dtype='<U8'), array(['boots'], dtype='<U5'),\n",
       "         array(['bra'], dtype='<U3'), array(['bracelet'], dtype='<U8'),\n",
       "         array(['cape'], dtype='<U4'), array(['cardigan'], dtype='<U8'),\n",
       "         array(['clogs'], dtype='<U5'), array(['coat'], dtype='<U4'),\n",
       "         array(['dress'], dtype='<U5'), array(['earrings'], dtype='<U8'),\n",
       "         array(['flats'], dtype='<U5'), array(['glasses'], dtype='<U7'),\n",
       "         array(['gloves'], dtype='<U6'), array(['hair'], dtype='<U4'),\n",
       "         array(['hat'], dtype='<U3'), array(['heels'], dtype='<U5'),\n",
       "         array(['hoodie'], dtype='<U6'), array(['intimate'], dtype='<U8'),\n",
       "         array(['jacket'], dtype='<U6'), array(['jeans'], dtype='<U5'),\n",
       "         array(['jumper'], dtype='<U6'), array(['leggings'], dtype='<U8'),\n",
       "         array(['loafers'], dtype='<U7'),\n",
       "         array(['necklace'], dtype='<U8'),\n",
       "         array(['panties'], dtype='<U7'), array(['pants'], dtype='<U5'),\n",
       "         array(['pumps'], dtype='<U5'), array(['purse'], dtype='<U5'),\n",
       "         array(['ring'], dtype='<U4'), array(['romper'], dtype='<U6'),\n",
       "         array(['sandals'], dtype='<U7'), array(['scarf'], dtype='<U5'),\n",
       "         array(['shirt'], dtype='<U5'), array(['shoes'], dtype='<U5'),\n",
       "         array(['shorts'], dtype='<U6'), array(['skin'], dtype='<U4'),\n",
       "         array(['skirt'], dtype='<U5'), array(['sneakers'], dtype='<U8'),\n",
       "         array(['socks'], dtype='<U5'), array(['stockings'], dtype='<U9'),\n",
       "         array(['suit'], dtype='<U4'),\n",
       "         array(['sunglasses'], dtype='<U10'),\n",
       "         array(['sweater'], dtype='<U7'),\n",
       "         array(['sweatshirt'], dtype='<U10'),\n",
       "         array(['swimwear'], dtype='<U8'),\n",
       "         array(['t-shirt'], dtype='<U7'), array(['tie'], dtype='<U3'),\n",
       "         array(['tights'], dtype='<U6'), array(['top'], dtype='<U3'),\n",
       "         array(['vest'], dtype='<U4'), array(['wallet'], dtype='<U6'),\n",
       "         array(['watch'], dtype='<U5'), array(['wedges'], dtype='<U6')]],\n",
       "       dtype=object)}"
      ]
     },
     "execution_count": 3,
     "metadata": {},
     "output_type": "execute_result"
    }
   ],
   "source": [
    "loadmat('datasets/label_list.mat')"
   ]
  },
  {
   "cell_type": "code",
   "execution_count": 4,
   "metadata": {},
   "outputs": [],
   "source": [
    "clothing_labels = loadmat(f'datasets/label_list.mat')['label_list']\n",
    "cloth2code = dict(zip([clothing_labels[0, index][0] for index in range(59)], [index for index in range(59)]))\n",
    "code2cloth = dict(zip([index for index in range(59)], [clothing_labels[0, index][0] for index in range(59)]))"
   ]
  },
  {
   "cell_type": "code",
   "execution_count": 5,
   "metadata": {},
   "outputs": [],
   "source": [
    "# pd.DataFrame(cloth2code.items(), columns=['CLOTH', 'CODE']).to_parquet('data/cloth2code.parquet')"
   ]
  },
  {
   "cell_type": "code",
   "execution_count": 6,
   "metadata": {},
   "outputs": [],
   "source": [
    "def load_specific_image(image_path, mask_path, objects=[31, 40], count=10):\n",
    "    return_info = {\n",
    "        'objects' : {},\n",
    "        'objects_count': {}\n",
    "    }\n",
    "    masks = os.listdir(MASKPATH)\n",
    "    for mask in tqdm(masks):\n",
    "        mask_array = read_mask(mask)\n",
    "        classes = np.unique(mask_array)\n",
    "        image_name = f'{mask.split(\".\")[0]}'\n",
    "        image_array = read_image(image_name)\n",
    "        for object_ in objects:\n",
    "            if object_ in classes:\n",
    "                if object_ not in return_info['objects_count']:\n",
    "                    return_info['objects_count'][object_] = 0\n",
    "                if object_ not in return_info['objects']:\n",
    "                    return_info['objects'][object_] = []\n",
    "                    \n",
    "                return_info['objects_count'][object_] += 1\n",
    "                return_info['objects'][object_].append(image_name.split('.')[0])\n",
    "    return return_info"
   ]
  },
  {
   "cell_type": "code",
   "execution_count": 7,
   "metadata": {},
   "outputs": [
    {
     "name": "stderr",
     "output_type": "stream",
     "text": [
      "100%|██████████| 1004/1004 [00:14<00:00, 70.92it/s]\n"
     ]
    }
   ],
   "source": [
    "specific_image_annotations = load_specific_image(IMAGEPATH, MASKPATH)"
   ]
  },
  {
   "cell_type": "code",
   "execution_count": 64,
   "metadata": {},
   "outputs": [
    {
     "data": {
      "text/plain": [
       "False"
      ]
     },
     "execution_count": 64,
     "metadata": {},
     "output_type": "execute_result"
    }
   ],
   "source": [
    "# isinstance(image, np.ndarray)\n",
    "# type(np.array(image))"
   ]
  },
  {
   "cell_type": "code",
   "execution_count": 14,
   "metadata": {},
   "outputs": [
    {
     "data": {
      "image/png": "[encoded data removed]",
      "text/plain": [
       "<Figure size 432x288 with 1 Axes>"
      ]
     },
     "metadata": {
      "needs_background": "light"
     },
     "output_type": "display_data"
    }
   ],
   "source": [
    "mask_name = specific_image_annotations['objects'][40][1]\n",
    "mask = read_mask(mask_name)\n",
    "plt.imshow(mask)\n",
    "image = read_image(mask_name)\n",
    "# plt.imshow(image)\n",
    "# cut_mask(image, mask, 40)"
   ]
  },
  {
   "cell_type": "code",
   "execution_count": 40,
   "metadata": {},
   "outputs": [
    {
     "data": {
      "text/plain": [
       "<matplotlib.image.AxesImage at 0x7fad86f997b8>"
      ]
     },
     "execution_count": 40,
     "metadata": {},
     "output_type": "execute_result"
    },
    {
     "data": {
      "image/png": "[encoded data removed]",
      "text/plain": [
       "<Figure size 432x288 with 1 Axes>"
      ]
     },
     "metadata": {
      "needs_background": "light"
     },
     "output_type": "display_data"
    }
   ],
   "source": [
    "import cv2\n",
    "cloth_mask = np.where(mask == 40, mask, 0)\n",
    "res = cv2.bitwise_and(np.array(image), np.array(image), mask = cloth_mask)\n",
    "plt.imshow(res)\n",
    "# image\n",
    "# mask"
   ]
  },
  {
   "cell_type": "code",
   "execution_count": 12,
   "metadata": {},
   "outputs": [],
   "source": [
    "img = np.array([[1,2], [1,2]])\n",
    "mask = [[True, False], [False, True]]\n",
    "# a = np.putmask(img, img > 1, 0)"
   ]
  },
  {
   "cell_type": "code",
   "execution_count": 41,
   "metadata": {},
   "outputs": [
    {
     "data": {
      "text/plain": [
       "array([[0, 2],\n",
       "       [1, 0]])"
      ]
     },
     "execution_count": 41,
     "metadata": {},
     "output_type": "execute_result"
    }
   ],
   "source": [
    "x = np.arange(6).reshape(2, 3)\n",
    "np.putmask(img, mask, 0)\n",
    "img"
   ]
  },
  {
   "cell_type": "code",
   "execution_count": 16,
   "metadata": {},
   "outputs": [
    {
     "data": {
      "text/plain": [
       "array([[1, 0],\n",
       "       [3, 4]])"
      ]
     },
     "execution_count": 16,
     "metadata": {},
     "output_type": "execute_result"
    }
   ],
   "source": []
  }
 ],
 "metadata": {
  "kernelspec": {
   "display_name": "data-venv",
   "language": "python",
   "name": "data-venv"
  },
  "language_info": {
   "codemirror_mode": {
    "name": "ipython",
    "version": 3
   },
   "file_extension": ".py",
   "mimetype": "text/x-python",
   "name": "python",
   "nbconvert_exporter": "python",
   "pygments_lexer": "ipython3",
   "version": "3.6.9"
  }
 },
 "nbformat": 4,
 "nbformat_minor": 2
}
